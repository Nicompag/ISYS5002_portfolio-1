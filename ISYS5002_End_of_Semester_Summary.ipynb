{
  "nbformat": 4,
  "nbformat_minor": 0,
  "metadata": {
    "colab": {
      "name": "ISYS5002 End of Semester Summary.ipynb",
      "provenance": [],
      "authorship_tag": "ABX9TyMCj042ragEPgjQhgaB0YuS",
      "include_colab_link": true
    },
    "kernelspec": {
      "name": "python3",
      "display_name": "Python 3"
    },
    "language_info": {
      "name": "python"
    }
  },
  "cells": [
    {
      "cell_type": "markdown",
      "metadata": {
        "id": "view-in-github",
        "colab_type": "text"
      },
      "source": [
        "<a href=\"https://colab.research.google.com/github/michael-borck/ISYS5002_portfolio/blob/main/ISYS5002_End_of_Semester_Summary.ipynb\" target=\"_parent\"><img src=\"https://colab.research.google.com/assets/colab-badge.svg\" alt=\"Open In Colab\"/></a>"
      ]
    },
    {
      "cell_type": "markdown",
      "metadata": {
        "id": "q9qcbBIJsddZ"
      },
      "source": [
        "# Computational Thinking\n",
        "\n",
        "Computational thinking is a collection of problem-solving techniques that entails describing problems and solutions in a way that a computer can understand.\n",
        "\n",
        "* Problem Formation (Abstraction)\n",
        "* Solution Expression (Automation)\n",
        "* Execution and Evaluation (Analysis)\n",
        "\n",
        "## Problem Solving Methodology\n",
        "\n",
        "1. State the problem clearly\n",
        "2. Describe the input and output\n",
        "3. Work a simple example by hand\n",
        "4. Develop and algorithm (and convert to Python)\n",
        "5. Test solution with a variety of data\n",
        "\n",
        "*Note: Steps 1-3 and half of Step 4, a computer is not needed!*\n",
        "\n",
        "\n",
        "## Two things\n",
        "\n",
        "1. Store Values\n",
        "2. Perform Operations\n",
        "\n",
        "## Six Operations\n",
        "\n",
        "* Input/Receive Information\n",
        "* Output Information\n",
        "* Perform Arithmetic\n",
        "* Assign a value to a variable\n",
        "* Compare to variables\n",
        "* Repeat a group of actions\n",
        "\n",
        "## Develop algorithm (half of step 4)\n",
        "\n",
        "Break a problems down into simple actions in term of the **six operations**\n",
        "\n",
        "* Actions carry out simple tasks\n",
        "* Express actions as one of six operations \n",
        "* A set of actions is called an algorithm\n",
        "* Algorithms expressed as Pseudocode\n",
        "* Coding is translating an algorithm to a program\n",
        "\n",
        "## Implement Algorithm (other half of step 4)\n",
        "\n",
        "How to implement\n",
        "\n",
        "* Implement actions/steps one at a time\n",
        "* Initially use temporary variables\n",
        "* Create placeholders for difficult actions\n",
        "* If can't implement a action, use psuedo code as comment\n"
      ]
    },
    {
      "cell_type": "code",
      "metadata": {
        "id": "DbeOG77hsb4o"
      },
      "source": [
        ""
      ],
      "execution_count": null,
      "outputs": []
    },
    {
      "cell_type": "markdown",
      "metadata": {
        "id": "8Kg0pRLgshQu"
      },
      "source": [
        "# Python\n",
        "\n",
        "\n",
        "Combinng the building blocks of the Python language with computational thinking will allow you to solve programming problems in Python.\n",
        "\n",
        "This section show you some basic concepts to start you off.  To learn a language, you need to program in it for a while. We have used Python 3, don't use Python 2!\n",
        "\n",
        "Python enforces types (strongly typed), dynamically, implicitly typed (guesses type), case sensitive and object-oriented (i.e. everything is an object).\n",
        "\n",
        "\n",
        "## Getting Help\n",
        "\n",
        "* *help(object)*\n",
        "* *dir(object)*\n",
        "* Internet search\n",
        "* YouTube Tutorials\n",
        "* Websites eg. W3Schools\n",
        "\n",
        "## Useful functions\n",
        "* *type(object)*\n",
        "* *print(object)*\n",
        "* *len(object)*\n",
        "\n",
        "## Data Values\n",
        "\n",
        "Similar to how a Person is different from a dog, data values can be different.  We call this difference 'type'.  A data value can be:\n",
        "\n",
        "* whole number eg. 342\n",
        "* real number eg. 17.7\n",
        "* character eg. a\n",
        "* a word or phrase eg. 'Hello World'\n",
        "* logical value eg. True or False\n"
      ]
    },
    {
      "cell_type": "code",
      "metadata": {
        "id": "U81mY9Iusjyc",
        "colab": {
          "base_uri": "https://localhost:8080/"
        },
        "outputId": "64531292-d317-4dd0-82ab-d9f3a91e39f9"
      },
      "source": [
        "type(5)"
      ],
      "execution_count": 203,
      "outputs": [
        {
          "output_type": "execute_result",
          "data": {
            "text/plain": [
              "int"
            ]
          },
          "metadata": {},
          "execution_count": 203
        }
      ]
    },
    {
      "cell_type": "code",
      "metadata": {
        "id": "-_nhnuTdAq-B",
        "colab": {
          "base_uri": "https://localhost:8080/"
        },
        "outputId": "d239f631-afd9-4ef5-ad57-d8d2d01df115"
      },
      "source": [
        "type(5.5)"
      ],
      "execution_count": 204,
      "outputs": [
        {
          "output_type": "execute_result",
          "data": {
            "text/plain": [
              "float"
            ]
          },
          "metadata": {},
          "execution_count": 204
        }
      ]
    },
    {
      "cell_type": "code",
      "metadata": {
        "id": "DFz0cg65_cTh",
        "colab": {
          "base_uri": "https://localhost:8080/"
        },
        "outputId": "72b39a5b-a043-4a2f-a284-682c256f6063"
      },
      "source": [
        "type('a')"
      ],
      "execution_count": 205,
      "outputs": [
        {
          "output_type": "execute_result",
          "data": {
            "text/plain": [
              "str"
            ]
          },
          "metadata": {},
          "execution_count": 205
        }
      ]
    },
    {
      "cell_type": "code",
      "metadata": {
        "id": "8EOufIrJAgSR",
        "colab": {
          "base_uri": "https://localhost:8080/"
        },
        "outputId": "4efeee21-2adb-4ef9-a889-8ed6e5c74c79"
      },
      "source": [
        "type('Hello World')"
      ],
      "execution_count": 206,
      "outputs": [
        {
          "output_type": "execute_result",
          "data": {
            "text/plain": [
              "str"
            ]
          },
          "metadata": {},
          "execution_count": 206
        }
      ]
    },
    {
      "cell_type": "code",
      "metadata": {
        "id": "9d6jipjRAlbq",
        "colab": {
          "base_uri": "https://localhost:8080/"
        },
        "outputId": "38d93df9-6ba8-4b01-a2a3-ec4a2157ef5f"
      },
      "source": [
        "type(True)"
      ],
      "execution_count": 207,
      "outputs": [
        {
          "output_type": "execute_result",
          "data": {
            "text/plain": [
              "bool"
            ]
          },
          "metadata": {},
          "execution_count": 207
        }
      ]
    },
    {
      "cell_type": "markdown",
      "metadata": {
        "id": "KN_1rAqvYWPL"
      },
      "source": [
        "We can also have group data values into:\n",
        "* tuples (can't change values in tuple)\n",
        "* lists (can cange the contents of the list)\n",
        "* dict (dictonary, has a lookup key, and corresponding 'value') \n",
        "\n",
        "Tuples use '()', Lists use '[]' and dictionaries use '{}'"
      ]
    },
    {
      "cell_type": "code",
      "metadata": {
        "id": "PkLZW7CZAvJz",
        "colab": {
          "base_uri": "https://localhost:8080/"
        },
        "outputId": "bceeea7d-f6eb-4556-f150-71c0b9e4b3eb"
      },
      "source": [
        "type([1,2,3])"
      ],
      "execution_count": 208,
      "outputs": [
        {
          "output_type": "execute_result",
          "data": {
            "text/plain": [
              "list"
            ]
          },
          "metadata": {},
          "execution_count": 208
        }
      ]
    },
    {
      "cell_type": "code",
      "metadata": {
        "id": "ke-DX4JrAytw",
        "colab": {
          "base_uri": "https://localhost:8080/"
        },
        "outputId": "efa1642f-cb8d-4052-c102-161546d298b7"
      },
      "source": [
        "type((1,2,3))"
      ],
      "execution_count": 209,
      "outputs": [
        {
          "output_type": "execute_result",
          "data": {
            "text/plain": [
              "tuple"
            ]
          },
          "metadata": {},
          "execution_count": 209
        }
      ]
    },
    {
      "cell_type": "code",
      "metadata": {
        "id": "wbnv0h-5Y9pi",
        "colab": {
          "base_uri": "https://localhost:8080/"
        },
        "outputId": "edbb61ae-b827-4214-8ea9-d1c469c7fccd"
      },
      "source": [
        "type({'ID': 100, 'Name': 'Odin'})"
      ],
      "execution_count": 210,
      "outputs": [
        {
          "output_type": "execute_result",
          "data": {
            "text/plain": [
              "dict"
            ]
          },
          "metadata": {},
          "execution_count": 210
        }
      ]
    },
    {
      "cell_type": "markdown",
      "metadata": {
        "id": "5RH76NNtZZgd"
      },
      "source": [
        "List, tuples and dict have a length.  Knowing the length is important as often we want to process or perform a action on each element of the list, tuple or dict. "
      ]
    },
    {
      "cell_type": "code",
      "metadata": {
        "id": "8LkWXQfdZtXy",
        "colab": {
          "base_uri": "https://localhost:8080/"
        },
        "outputId": "efc937ba-1c65-425b-d5a1-4216c2a0422a"
      },
      "source": [
        "len([1,2,3])"
      ],
      "execution_count": 211,
      "outputs": [
        {
          "output_type": "execute_result",
          "data": {
            "text/plain": [
              "3"
            ]
          },
          "metadata": {},
          "execution_count": 211
        }
      ]
    },
    {
      "cell_type": "code",
      "metadata": {
        "id": "1XKemUKzZyre",
        "colab": {
          "base_uri": "https://localhost:8080/"
        },
        "outputId": "4d59a588-8292-42a4-a5e4-f9a33e4a784a"
      },
      "source": [
        "len((1,2,3))"
      ],
      "execution_count": 212,
      "outputs": [
        {
          "output_type": "execute_result",
          "data": {
            "text/plain": [
              "3"
            ]
          },
          "metadata": {},
          "execution_count": 212
        }
      ]
    },
    {
      "cell_type": "code",
      "metadata": {
        "id": "TFYexPp5ZzAX",
        "colab": {
          "base_uri": "https://localhost:8080/"
        },
        "outputId": "fea23bc7-9ff2-4391-bde6-83e194fc030b"
      },
      "source": [
        "len({'ID': 100, 'Name': 'Odin'})"
      ],
      "execution_count": 213,
      "outputs": [
        {
          "output_type": "execute_result",
          "data": {
            "text/plain": [
              "2"
            ]
          },
          "metadata": {},
          "execution_count": 213
        }
      ]
    },
    {
      "cell_type": "markdown",
      "metadata": {
        "id": "vnDROiL7sAPD"
      },
      "source": [
        "We can sometimes coerce one type into another, for example, an int to a float."
      ]
    },
    {
      "cell_type": "code",
      "metadata": {
        "id": "klYvG_nxsTYI",
        "colab": {
          "base_uri": "https://localhost:8080/"
        },
        "outputId": "9a6d489c-6834-45a5-9c03-dc107e60a2f9"
      },
      "source": [
        "print(type(5))\n",
        "float(\"5\")"
      ],
      "execution_count": 217,
      "outputs": [
        {
          "output_type": "stream",
          "name": "stdout",
          "text": [
            "<class 'int'>\n"
          ]
        },
        {
          "output_type": "execute_result",
          "data": {
            "text/plain": [
              "5.0"
            ]
          },
          "metadata": {},
          "execution_count": 217
        }
      ]
    },
    {
      "cell_type": "markdown",
      "metadata": {
        "id": "Xs4YduS-sWlE"
      },
      "source": [
        "or a float into a int"
      ]
    },
    {
      "cell_type": "code",
      "metadata": {
        "id": "h9LEPFDNsZYB",
        "colab": {
          "base_uri": "https://localhost:8080/"
        },
        "outputId": "586a703b-5c24-4da5-b6b2-93d20726fff5"
      },
      "source": [
        "int(5.7)"
      ],
      "execution_count": 218,
      "outputs": [
        {
          "output_type": "execute_result",
          "data": {
            "text/plain": [
              "5"
            ]
          },
          "metadata": {},
          "execution_count": 218
        }
      ]
    },
    {
      "cell_type": "code",
      "metadata": {
        "id": "-rhtMtkYseQd",
        "colab": {
          "base_uri": "https://localhost:8080/"
        },
        "outputId": "20f5de5d-2859-4b7f-f3ea-877062e8a9e5"
      },
      "source": [
        "# just for fun\n",
        "int(float(5))"
      ],
      "execution_count": 219,
      "outputs": [
        {
          "output_type": "execute_result",
          "data": {
            "text/plain": [
              "5"
            ]
          },
          "metadata": {},
          "execution_count": 219
        }
      ]
    },
    {
      "cell_type": "markdown",
      "metadata": {
        "id": "83Li3JRr_cdx"
      },
      "source": [
        "## Simple Calculator\n",
        "\n",
        "| Symbol    | Meaning/Operation |\n",
        "|-----------|-------------------|\n",
        "| +         | Addition          |\n",
        "| -         | Subtraciton       |\n",
        "| *         | Multiplication    |\n",
        "| /         | Divsion           |\n",
        "| //        | Integer Division (quotient)  |\n",
        "| %         | Moduls (reminder) |\n",
        "| **        | Power/Exponent    |\n",
        "| ()        | Group.            |\n",
        "\n",
        "Follows **BOMDAS**"
      ]
    },
    {
      "cell_type": "code",
      "metadata": {
        "id": "MmOE5TuAAkYT",
        "colab": {
          "base_uri": "https://localhost:8080/"
        },
        "outputId": "e56c1e7a-3df0-4dca-b301-2ae05d5b6834"
      },
      "source": [
        "3 + 5"
      ],
      "execution_count": 220,
      "outputs": [
        {
          "output_type": "execute_result",
          "data": {
            "text/plain": [
              "8"
            ]
          },
          "metadata": {},
          "execution_count": 220
        }
      ]
    },
    {
      "cell_type": "code",
      "metadata": {
        "id": "eCw8iJMFA7ov",
        "colab": {
          "base_uri": "https://localhost:8080/"
        },
        "outputId": "3f349865-3157-4afb-e718-753a33eb7e6b"
      },
      "source": [
        "3 + 5.5"
      ],
      "execution_count": 221,
      "outputs": [
        {
          "output_type": "execute_result",
          "data": {
            "text/plain": [
              "8.5"
            ]
          },
          "metadata": {},
          "execution_count": 221
        }
      ]
    },
    {
      "cell_type": "code",
      "metadata": {
        "id": "pwx92aZDA-Dn",
        "colab": {
          "base_uri": "https://localhost:8080/"
        },
        "outputId": "09312fb0-99a3-42cc-8edd-427f21d6f441"
      },
      "source": [
        "2 * 3 / (2 + 1)"
      ],
      "execution_count": 222,
      "outputs": [
        {
          "output_type": "execute_result",
          "data": {
            "text/plain": [
              "2.0"
            ]
          },
          "metadata": {},
          "execution_count": 222
        }
      ]
    },
    {
      "cell_type": "code",
      "metadata": {
        "id": "DmjOkUS0DgSz",
        "colab": {
          "base_uri": "https://localhost:8080/"
        },
        "outputId": "93ecd015-0be9-402a-ad48-59cd2869ce86"
      },
      "source": [
        "2**2"
      ],
      "execution_count": 223,
      "outputs": [
        {
          "output_type": "execute_result",
          "data": {
            "text/plain": [
              "4"
            ]
          },
          "metadata": {},
          "execution_count": 223
        }
      ]
    },
    {
      "cell_type": "code",
      "metadata": {
        "id": "tG_t9LqTD7md",
        "colab": {
          "base_uri": "https://localhost:8080/"
        },
        "outputId": "1dc5ded0-417d-4e12-e5b4-e393e8eaf190"
      },
      "source": [
        "4 / 3"
      ],
      "execution_count": 224,
      "outputs": [
        {
          "output_type": "execute_result",
          "data": {
            "text/plain": [
              "1.3333333333333333"
            ]
          },
          "metadata": {},
          "execution_count": 224
        }
      ]
    },
    {
      "cell_type": "code",
      "metadata": {
        "id": "ngVksSubD-Mz",
        "colab": {
          "base_uri": "https://localhost:8080/"
        },
        "outputId": "7667fd4c-2977-4b72-c8cf-e172ff8519f8"
      },
      "source": [
        "4 // 3 "
      ],
      "execution_count": 225,
      "outputs": [
        {
          "output_type": "execute_result",
          "data": {
            "text/plain": [
              "1"
            ]
          },
          "metadata": {},
          "execution_count": 225
        }
      ]
    },
    {
      "cell_type": "code",
      "metadata": {
        "id": "7clo_Kt-ECei",
        "colab": {
          "base_uri": "https://localhost:8080/"
        },
        "outputId": "555466e5-4a23-465c-ff5d-a01a9585ba68"
      },
      "source": [
        "15 % 3"
      ],
      "execution_count": 228,
      "outputs": [
        {
          "output_type": "execute_result",
          "data": {
            "text/plain": [
              "0"
            ]
          },
          "metadata": {},
          "execution_count": 228
        }
      ]
    },
    {
      "cell_type": "markdown",
      "metadata": {
        "id": "toO4bhOgskaW"
      },
      "source": [
        "## Variables\n",
        "\n",
        "Variables are containers to store **data values**\n",
        "\n",
        "A variable is created when you first assign a value to it.\n",
        "\n",
        "Data type of variable based on its contents"
      ]
    },
    {
      "cell_type": "code",
      "metadata": {
        "id": "olyFqMY2B52Q",
        "colab": {
          "base_uri": "https://localhost:8080/"
        },
        "outputId": "b6a30a8d-0874-4735-9bdd-f1088005a097"
      },
      "source": [
        "name = \"Odin\"\n",
        "print(name)\n",
        "print(type(name))\n",
        "type(name)"
      ],
      "execution_count": 236,
      "outputs": [
        {
          "output_type": "stream",
          "name": "stdout",
          "text": [
            "Odin\n",
            "<class 'str'>\n"
          ]
        },
        {
          "output_type": "execute_result",
          "data": {
            "text/plain": [
              "str"
            ]
          },
          "metadata": {},
          "execution_count": 236
        }
      ]
    },
    {
      "cell_type": "code",
      "metadata": {
        "id": "s772M9OuCHv2",
        "colab": {
          "base_uri": "https://localhost:8080/"
        },
        "outputId": "8888cc51-a56f-47d2-ede6-17898ef38e5a"
      },
      "source": [
        "x = 3\n",
        "y = 5\n",
        "slope = x / y\n",
        "print(slope)\n",
        "type(slope)"
      ],
      "execution_count": 238,
      "outputs": [
        {
          "output_type": "stream",
          "name": "stdout",
          "text": [
            "0.6\n"
          ]
        },
        {
          "output_type": "execute_result",
          "data": {
            "text/plain": [
              "float"
            ]
          },
          "metadata": {},
          "execution_count": 238
        }
      ]
    },
    {
      "cell_type": "code",
      "metadata": {
        "id": "TmEQEkdQFRLD",
        "colab": {
          "base_uri": "https://localhost:8080/"
        },
        "outputId": "ea28338f-f81d-4b1d-f667-045472ed0389"
      },
      "source": [
        "# Expressions have type \n",
        "type(x / y)"
      ],
      "execution_count": 239,
      "outputs": [
        {
          "output_type": "execute_result",
          "data": {
            "text/plain": [
              "float"
            ]
          },
          "metadata": {},
          "execution_count": 239
        }
      ]
    },
    {
      "cell_type": "code",
      "metadata": {
        "id": "A9DqB3biGruA",
        "colab": {
          "base_uri": "https://localhost:8080/"
        },
        "outputId": "0a4d3a47-e749-4e32-b4e6-02c98cb49cd1"
      },
      "source": [
        "big_string = '''\n",
        "    This is a multiple line comment/string\n",
        "    This is another line\n",
        "    This is the final line \n",
        "    '''\n",
        "print(big_string)"
      ],
      "execution_count": 241,
      "outputs": [
        {
          "output_type": "stream",
          "name": "stdout",
          "text": [
            "\n",
            "    This is a multiple line comment/string\n",
            "    This is another line\n",
            "    This is the final line \n",
            "    \n"
          ]
        }
      ]
    },
    {
      "cell_type": "markdown",
      "metadata": {
        "id": "iIBzo5u7aSWy"
      },
      "source": [
        "Variables can contain more complex data values, for example lists, tuples or dicts.\n",
        "\n",
        "We can access individual elements of a list or tuple by using a position index.  In Python we use zero-based index.  That is the 'first' element is index '0'."
      ]
    },
    {
      "cell_type": "code",
      "metadata": {
        "id": "6_0y7dyObYne",
        "colab": {
          "base_uri": "https://localhost:8080/"
        },
        "outputId": "a0098cdd-67b2-4bd5-900e-021ed0705ed3"
      },
      "source": [
        "rainfall = [0,0,2.7,2.3, 5.7, 6.9, 5.5, 2.3, 1,0,0,0]\n",
        "\n",
        "print(len(rainfall))\n",
        "\n",
        "# Print the first element\n",
        "print(rainfall[0])\n",
        "\n",
        "# Print the third element\n",
        "print(rainfall[2])"
      ],
      "execution_count": 243,
      "outputs": [
        {
          "output_type": "stream",
          "name": "stdout",
          "text": [
            "12\n",
            "0\n",
            "2.7\n"
          ]
        }
      ]
    },
    {
      "cell_type": "markdown",
      "metadata": {
        "id": "7VnH0Nwwb4VZ"
      },
      "source": [
        "We can use the contents of a variable as the index"
      ]
    },
    {
      "cell_type": "code",
      "metadata": {
        "id": "d5Ehvrbkb-jx",
        "colab": {
          "base_uri": "https://localhost:8080/"
        },
        "outputId": "a713e031-1220-4e50-c6bb-ff3aca09b255"
      },
      "source": [
        "month = 11\n",
        "print(rainfall[month])"
      ],
      "execution_count": 244,
      "outputs": [
        {
          "output_type": "stream",
          "name": "stdout",
          "text": [
            "0\n"
          ]
        }
      ]
    },
    {
      "cell_type": "markdown",
      "metadata": {
        "id": "VRtey1GocPXo"
      },
      "source": [
        "To access a element of a dict we use the key."
      ]
    },
    {
      "cell_type": "code",
      "metadata": {
        "id": "rOKqCQYXcQcA",
        "colab": {
          "base_uri": "https://localhost:8080/"
        },
        "outputId": "6a7a8bd5-eb30-4f21-f889-6f5616ab8c88"
      },
      "source": [
        "rainfall = {'Jan': 0,\n",
        "            'Feb': 0,\n",
        "            'Mar': 2,\n",
        "            'Apr': 2.3,\n",
        "            'May': 5.7,\n",
        "            'Jun': 6.9,\n",
        "            'Jul':5.5, \n",
        "            'Aug':2.3, \n",
        "            'Sep':1,\n",
        "            'Oct': 0,\n",
        "            'Nov':0,\n",
        "            'Dec': 0}\n",
        "print(rainfall['Mar'])"
      ],
      "execution_count": 245,
      "outputs": [
        {
          "output_type": "stream",
          "name": "stdout",
          "text": [
            "2\n"
          ]
        }
      ]
    },
    {
      "cell_type": "markdown",
      "metadata": {
        "id": "COgRuYZTFmd0"
      },
      "source": [
        "# Syntax\n",
        "\n",
        "* Python has no mandatory statement termination characters\n",
        "* Whitespace is significant\n",
        "* Whitespace is 'space', 'tab', 'return' characters\n",
        "* Blocks are specified by indentation. \n",
        "* Indent to begin a block, dedent to end one\n",
        "* Statements that expect an indentation level end in a colon (:)\n",
        "* Comments start with the pound (#) sign and are single-line\n",
        "* Multi-line strings are used for multi-line comments.\n",
        "* Multi-line strings begin three quotees *'''*\n",
        "* Multi-line strings end with three quotes *'''* \n",
        "* Python qwerk, use multiple line strings as multiple line comments\n",
        "\n",
        "\n",
        "## Comments"
      ]
    },
    {
      "cell_type": "code",
      "metadata": {
        "id": "CIkb74vgGaW6",
        "colab": {
          "base_uri": "https://localhost:8080/"
        },
        "outputId": "b58d7794-46b8-4903-d7a2-1c555a3dbbaa"
      },
      "source": [
        "# This is a single line comment\n",
        "# Writing multiple single line\n",
        "# comments is the 'true' way\n",
        "# to do multi-line comments\n",
        "\n",
        "# Anything after the '#' character is ignored\n",
        "# So comments can occur after the python statement\n",
        "age = 5 # The persons age\n",
        "\n",
        "''' This is a multiple line string\n",
        "    but because it not assigned to a variable\n",
        "    Python will ignore unassigned strings\n",
        "    so we can treat this as a multiple line comment'''\n",
        "\n",
        "big_string = ''' This is a multiple line string\n",
        "    and because it is assigned we can perform\n",
        "    an operation on the variable'''\n",
        "\n",
        "print(big_string)\n",
        "print(age)"
      ],
      "execution_count": 247,
      "outputs": [
        {
          "output_type": "stream",
          "name": "stdout",
          "text": [
            " This is a multiple line string\n",
            "    and because it is assigned we can perform\n",
            "    an operation on the variable\n",
            "5\n"
          ]
        }
      ]
    },
    {
      "cell_type": "markdown",
      "metadata": {
        "id": "wmhkJr_fH9dY"
      },
      "source": [
        "## Strings\n",
        "\n",
        "Strings can use single or double quotation marks.  \n",
        "\n",
        "Multiline strings are enclosed in _triple double (or single) quotes_ (“”“).\n",
        "\n",
        "You can build up, concatenate strings using the '+' operator.\n",
        "\n",
        "Let us pretend we need to print the phrase 'hello world' by creating the phrase one word at a time."
      ]
    },
    {
      "cell_type": "code",
      "metadata": {
        "id": "nWt_nG2aG3j-",
        "colab": {
          "base_uri": "https://localhost:8080/"
        },
        "outputId": "8d4229de-dc23-4756-f813-1db9780b486d"
      },
      "source": [
        "first_word = \"hello\"\n",
        "second_word = \"world\"\n",
        "phrase = first_word + second_word\n",
        "print(phrase)"
      ],
      "execution_count": 248,
      "outputs": [
        {
          "output_type": "stream",
          "name": "stdout",
          "text": [
            "helloworld\n"
          ]
        }
      ]
    },
    {
      "cell_type": "code",
      "metadata": {
        "id": "AhWKr7_rHMdS",
        "colab": {
          "base_uri": "https://localhost:8080/"
        },
        "outputId": "3b283495-09bf-4237-f749-9c58290a1e50"
      },
      "source": [
        "# How can we add a space?\n",
        "\n",
        "first_word = \"hello\"\n",
        "second_word = \"world\"\n",
        "phrase = first_word + \" \" + second_word # Add a sapce when we create the 'phrase'\n",
        "print(phrase)\n"
      ],
      "execution_count": 249,
      "outputs": [
        {
          "output_type": "stream",
          "name": "stdout",
          "text": [
            "hello world\n"
          ]
        }
      ]
    },
    {
      "cell_type": "code",
      "metadata": {
        "id": "U6Rn635AHgGO",
        "colab": {
          "base_uri": "https://localhost:8080/"
        },
        "outputId": "cacd665b-a6e5-47ba-837d-38dff24787d4"
      },
      "source": [
        "# Another way to add a space?\n",
        "\n",
        "first_word = \"hello \"   # add a space after the first word\n",
        "second_word = \"world\"\n",
        "phrase = first_word + second_word\n",
        "print(phrase)"
      ],
      "execution_count": 250,
      "outputs": [
        {
          "output_type": "stream",
          "name": "stdout",
          "text": [
            "hello world\n"
          ]
        }
      ]
    },
    {
      "cell_type": "code",
      "metadata": {
        "id": "CK-OWdL-HskM",
        "colab": {
          "base_uri": "https://localhost:8080/"
        },
        "outputId": "bd279254-bd6f-40a1-c5cf-e3830d21eab8"
      },
      "source": [
        "# And... Another wat to add a space\n",
        "\n",
        "first_word = \"hello\"\n",
        "second_word = \" world\"  # add a space to the begining of the word\n",
        "phrase = first_word + second_word\n",
        "print(phrase)"
      ],
      "execution_count": 251,
      "outputs": [
        {
          "output_type": "stream",
          "name": "stdout",
          "text": [
            "hello world\n"
          ]
        }
      ]
    },
    {
      "cell_type": "markdown",
      "metadata": {
        "id": "pPAGtLWFaMN6"
      },
      "source": [
        "The important part is not how to add a space, but to **recognise that a space was needed.**\n",
        "\n",
        "String are a sequence of characters.  So they have a length, but can also be treated like a list, and we can print individual characters."
      ]
    },
    {
      "cell_type": "code",
      "metadata": {
        "id": "2d0xKqk5aAuc",
        "colab": {
          "base_uri": "https://localhost:8080/"
        },
        "outputId": "5aee5a44-25da-4f61-ef78-55ae66d93197"
      },
      "source": [
        "first_word = \"hello\"\n",
        "second_word = \"world\"\n",
        "phrase = first_word + \" \" + second_word\n",
        "\n",
        "# print the length of the phrase\n",
        "print(len(phrase))\n",
        "\n",
        "print(phrase)\n",
        "\n",
        "# print the seventh character\n",
        "print(phrase[6])"
      ],
      "execution_count": 253,
      "outputs": [
        {
          "output_type": "stream",
          "name": "stdout",
          "text": [
            "11\n",
            "hello world\n",
            "w\n"
          ]
        }
      ]
    },
    {
      "cell_type": "markdown",
      "metadata": {
        "id": "_9zuvlvWggxY"
      },
      "source": [
        "We can do more the print a single character, we can slice up the string, and get a substring.\n",
        "\n",
        "We use the pattern\n",
        "\n",
        "    the_string[begin : one_greater_than_end]\n",
        "\n",
        "If we leave out 'begin' then it starts from the begining.\n",
        "\n",
        "If we leave out 'one_greater_than_end' then it goes to the end\n"
      ]
    },
    {
      "cell_type": "code",
      "metadata": {
        "id": "HsP_hSdohNxL",
        "colab": {
          "base_uri": "https://localhost:8080/"
        },
        "outputId": "d22a9b54-1563-4fe7-8e07-5dfc03ec409e"
      },
      "source": [
        "the_string = 'This is a example'\n",
        "print(the_string)\n",
        "\n",
        "# Now lets 'slice' the string, but leave out the slice-indexes\n",
        "print(the_string[:])"
      ],
      "execution_count": 254,
      "outputs": [
        {
          "output_type": "stream",
          "name": "stdout",
          "text": [
            "This is a example\n",
            "This is a example\n"
          ]
        }
      ]
    },
    {
      "cell_type": "markdown",
      "metadata": {
        "id": "brOzyx8Thhxy"
      },
      "source": [
        "Okay, that is a little strange.  Let us 'slice' out the word 'This'.\n",
        "\n",
        "So that starts at the begining, and we want up to and including the fourth character.  So we want positions from 0 to 3, but in slicing the 'end' has to be one greater, we want indexes 0 to 4"
      ]
    },
    {
      "cell_type": "code",
      "metadata": {
        "id": "El_2ka8FiCrK",
        "colab": {
          "base_uri": "https://localhost:8080/"
        },
        "outputId": "8e6aebeb-e319-4615-b3a6-3c3b5b9b4c04"
      },
      "source": [
        "the_string = 'This is a exmaple'\n",
        "print(the_string)\n",
        "\n",
        "# Print the first word\n",
        "first_word = the_string[0:4]\n",
        "print(first_word)"
      ],
      "execution_count": 255,
      "outputs": [
        {
          "output_type": "stream",
          "name": "stdout",
          "text": [
            "This is a exmaple\n",
            "This\n"
          ]
        }
      ]
    },
    {
      "cell_type": "markdown",
      "metadata": {
        "id": "-5xdVO01iTEc"
      },
      "source": [
        "Now if the indexes are positive we count from the begining of the string to find the position.  If the numbers are negative then we count backwards from the end of the string to find the position.\n",
        "\n",
        "Lets get the first word, counting form the end of the string"
      ]
    },
    {
      "cell_type": "code",
      "metadata": {
        "id": "fJTITW5Wivnn",
        "colab": {
          "base_uri": "https://localhost:8080/"
        },
        "outputId": "e090b249-52b1-4bf0-cf20-0540d30ec28a"
      },
      "source": [
        "the_string = 'This is a exmaple'\n",
        "print(the_string)\n",
        "\n",
        "# print length of string\n",
        "print(len(the_string))\n",
        "\n",
        "# Print the first word\n",
        "first_word = the_string[-17:-13]\n",
        "print(first_word)"
      ],
      "execution_count": 257,
      "outputs": [
        {
          "output_type": "stream",
          "name": "stdout",
          "text": [
            "This is a exmaple\n",
            "17\n",
            "This\n"
          ]
        }
      ]
    },
    {
      "cell_type": "markdown",
      "metadata": {
        "id": "DiXkxwD-jNgh"
      },
      "source": [
        "We can also slice lists and tuples"
      ]
    },
    {
      "cell_type": "code",
      "metadata": {
        "id": "6TCkqiGCjJnH",
        "colab": {
          "base_uri": "https://localhost:8080/"
        },
        "outputId": "4883cad4-a471-4fcd-f08a-fe3706b068c7"
      },
      "source": [
        "numbers = [1,2,3,4,5,6,7]\n",
        "\n",
        "# print the first four elements of the list\n",
        "print(numbers[0:4])"
      ],
      "execution_count": 258,
      "outputs": [
        {
          "output_type": "stream",
          "name": "stdout",
          "text": [
            "[1, 2, 3, 4]\n"
          ]
        }
      ]
    },
    {
      "cell_type": "markdown",
      "metadata": {
        "id": "ula3gARLjgtn"
      },
      "source": [
        "We can do fancy thing like, slice a range, and then slect only every second element.  The **real** pattern is:\n",
        "\n",
        "    the_list[start : end : step]"
      ]
    },
    {
      "cell_type": "code",
      "metadata": {
        "id": "yc2f5hookBhB",
        "colab": {
          "base_uri": "https://localhost:8080/"
        },
        "outputId": "e3fc3f44-5468-41c8-ec38-4f072c80fa2a"
      },
      "source": [
        "numbers = [1,2,3,4,5,6,7]\n",
        "\n",
        "# print the first four elements of the list\n",
        "print(numbers[0:4:2])\n",
        "\n",
        "# print every third element in the list\n",
        "print(numbers[::3])"
      ],
      "execution_count": 259,
      "outputs": [
        {
          "output_type": "stream",
          "name": "stdout",
          "text": [
            "[1, 3]\n",
            "[1, 4, 7]\n"
          ]
        }
      ]
    },
    {
      "cell_type": "markdown",
      "metadata": {
        "id": "Q7n-WnTaKgLo"
      },
      "source": [
        "# Making decisions\n",
        "\n",
        "Python supports logical conditions.  A logical condition is where we consider the relationship between two things.  Is one thing less than the other.  The 'result' of a logical condition is either True or False.\n",
        "\n",
        "* Equals: a == b\n",
        "* Not Equals: a != b\n",
        "* Less than: a < b\n",
        "* Less than or equal to: a <= b\n",
        "* Greater than: a > b\n",
        "* Greater than or equal to: a >= b\n",
        "\n",
        "These conditions can be used in several ways, most commonly in \"if statements\" and loops.\n",
        "\n",
        "An \"if statement\" is written by using the if keyword.\n",
        "\n",
        "    if *logical condition* then\n",
        "      do something\n",
        "\n",
        "And if we want to do something false then we \n",
        "\n",
        "    if NOT *logical condition* then\n",
        "      do something \n",
        "\n",
        "And if we want to do someting is it either true or false then we:\n",
        "\n",
        "    if *logical condition* then\n",
        "      do something\n",
        "    else\n",
        "      do something else (this is the 'false' branch)\n",
        "\n",
        "And we can can have lots of 'logical conditions'\n",
        "\n",
        "    if *logical condition* then\n",
        "      do something\n",
        "    elif *another logical condition* then\n",
        "      do something\n",
        "    elif *and another logical condition * then\n",
        "      do something\n",
        "    elif *and one more logical condition* then\n",
        "      do something\n",
        "    else\n",
        "      do something else (this is the 'false' branch)\n",
        "\n",
        "Whoa, which one do I use?  Why so many different ways? If you follow the first few steps of our development methodology, that is, understand the problem, then when you write an algorithm and make a decision, you can express the decision as per your understanding."
      ]
    },
    {
      "cell_type": "code",
      "metadata": {
        "id": "SJ5yco_SkS0T"
      },
      "source": [
        "score = 48\n",
        "\n",
        "if score > 50:\n",
        "  print('pass')"
      ],
      "execution_count": 263,
      "outputs": []
    },
    {
      "cell_type": "code",
      "metadata": {
        "id": "1Tay_6vhlaJQ",
        "colab": {
          "base_uri": "https://localhost:8080/"
        },
        "outputId": "94de3d4f-3230-49e5-cce5-a27c4fead590"
      },
      "source": [
        "score = 48\n",
        "\n",
        "if score > 50:\n",
        "  print('pass')\n",
        "else:\n",
        "  print('fail')"
      ],
      "execution_count": 262,
      "outputs": [
        {
          "output_type": "stream",
          "name": "stdout",
          "text": [
            "fail\n"
          ]
        }
      ]
    },
    {
      "cell_type": "code",
      "metadata": {
        "id": "EljgMYV9ll1M",
        "colab": {
          "base_uri": "https://localhost:8080/"
        },
        "outputId": "d9048421-487c-45d4-c65c-10627a0f43e0"
      },
      "source": [
        "score = 76.5\n",
        "\n",
        "if score > 50:\n",
        "  print('pass')\n",
        "if score > 65:\n",
        "  print('credit')\n",
        "if score > 75:\n",
        "  print('distinction') \n",
        "if score > 85:\n",
        "  print('high distinction')\n",
        "else:\n",
        "  print('fail')"
      ],
      "execution_count": 264,
      "outputs": [
        {
          "output_type": "stream",
          "name": "stdout",
          "text": [
            "pass\n",
            "credit\n",
            "distinction\n",
            "fail\n"
          ]
        }
      ]
    },
    {
      "cell_type": "markdown",
      "metadata": {
        "id": "PlP2qDLrl8Y7"
      },
      "source": [
        "Ummm.... what went wrong...  \n",
        "\n",
        "Well, each 'if' statement is executed, it doesn't mater if one of the earlier statements was true.  That is, each statement is 'independent'.\n",
        "\n",
        "If we use a 'elif', then once one logical condition is true the other are ignored."
      ]
    },
    {
      "cell_type": "code",
      "metadata": {
        "id": "UaAv1J1Ll7L5",
        "colab": {
          "base_uri": "https://localhost:8080/"
        },
        "outputId": "262535e0-2c4f-4f48-b7de-c875678898df"
      },
      "source": [
        "score = 76.5\n",
        "\n",
        "if score > 50:\n",
        "  print('pass')\n",
        "elif score > 65:\n",
        "  print('credit')\n",
        "elif score > 75:\n",
        "  print('distinction')\n",
        "elif score > 85:\n",
        "  print('high distinction')\n",
        "else:\n",
        "  print('fail')"
      ],
      "execution_count": 265,
      "outputs": [
        {
          "output_type": "stream",
          "name": "stdout",
          "text": [
            "pass\n"
          ]
        }
      ]
    },
    {
      "cell_type": "markdown",
      "metadata": {
        "id": "AFUrYam2mJLL"
      },
      "source": [
        "Argh.... stilll not correct!\n",
        "\n",
        "We have a logical error. The score was greater than 50, and once one codition is true the other are ignored.  So how do we fix the problem.  We need to write a different logical-conditions, here we flip the 'greater-than' to a 'less-than'\n",
        "\n",
        "    if score < 50:\n",
        "       print('fail')\n",
        "    elif score < 65:\n",
        "       print('pass')\n",
        "    etc.....\n",
        "\n",
        "We could specifiy a range in the logical condition\n",
        "\n",
        "    if 50 < score < 65:\n",
        "       print('pass')\n",
        "    elif 65 < score < 75:\n",
        "       print('credit')\n",
        "    etc.....\n",
        "\n",
        "We could reorder the original so we test from 'high distinction' down to 'pass'\n",
        "\n",
        "    if score > 85:\n",
        "       print('high distinction')\n",
        "    elif score > 75:\n",
        "       print('credit')\n",
        "    etc.....\n",
        "\n",
        "This works because when using 'elif' once one logical condition is true the other are ignored.\n",
        "\n",
        "Is one better than the other, well no.  So use the one you prefer or more closley matches your understanding of the problem."
      ]
    },
    {
      "cell_type": "code",
      "metadata": {
        "id": "2Pw5sMf1pWVG",
        "colab": {
          "base_uri": "https://localhost:8080/"
        },
        "outputId": "e0f8edd1-f650-45c8-efcd-e040cc72b44f"
      },
      "source": [
        "score = 50\n",
        "\n",
        "if 50 <= score < 65:\n",
        "  print('pass')\n",
        "elif 65 <= score < 75:\n",
        "  print('credit')\n",
        "elif 75 <= score < 85:\n",
        "  print('distinction')\n",
        "elif 85 <= score < 100:\n",
        "  print('high distinction')\n",
        "else:\n",
        "  print('fail')"
      ],
      "execution_count": 270,
      "outputs": [
        {
          "output_type": "stream",
          "name": "stdout",
          "text": [
            "fail\n"
          ]
        }
      ]
    },
    {
      "cell_type": "markdown",
      "metadata": {
        "id": "suu6Nlazpz4P"
      },
      "source": [
        "This is still not 'perfect'.  What happens is score is '75'?  Is that a credit or distinciton?  Try the above cell with a value of 75 and see what happens.  How would you fix this?\n",
        "\n",
        "# Repeting Actions\n",
        "\n",
        "We often need to repeat a series of actions, often procesing items ina list, for example calculating the total of a list of values, or finding the average of a list numbers."
      ]
    },
    {
      "cell_type": "code",
      "metadata": {
        "id": "reJy3ZWnrqtH",
        "colab": {
          "base_uri": "https://localhost:8080/"
        },
        "outputId": "6d062752-f398-42e9-dc84-3432f58c1dd6"
      },
      "source": [
        "# lets use range() function to genrate a list\n",
        "range(0,10)"
      ],
      "execution_count": 271,
      "outputs": [
        {
          "output_type": "execute_result",
          "data": {
            "text/plain": [
              "range(0, 10)"
            ]
          },
          "metadata": {},
          "execution_count": 271
        }
      ]
    },
    {
      "cell_type": "markdown",
      "metadata": {
        "id": "5osZGFour5Al"
      },
      "source": [
        "Umm... that not a list. Lets make that a list\n"
      ]
    },
    {
      "cell_type": "code",
      "metadata": {
        "id": "9hnoEv8lr37t",
        "colab": {
          "base_uri": "https://localhost:8080/"
        },
        "outputId": "76c3cc4d-59c4-45f4-b7ae-7366fef215bd"
      },
      "source": [
        "list(range(0,10))"
      ],
      "execution_count": 273,
      "outputs": [
        {
          "output_type": "execute_result",
          "data": {
            "text/plain": [
              "[0, 1, 2, 3, 4, 5, 6, 7, 8, 9]"
            ]
          },
          "metadata": {},
          "execution_count": 273
        }
      ]
    },
    {
      "cell_type": "markdown",
      "metadata": {
        "id": "8J27z11js08I"
      },
      "source": [
        "Lets save the list to use for later"
      ]
    },
    {
      "cell_type": "code",
      "metadata": {
        "id": "Daw5cx5Es4fs",
        "colab": {
          "base_uri": "https://localhost:8080/"
        },
        "outputId": "4019a355-aaca-49c7-a5ae-3e8958abb8b1"
      },
      "source": [
        "numbers = list(range(0,10))\n",
        "print(numbers)"
      ],
      "execution_count": 275,
      "outputs": [
        {
          "output_type": "stream",
          "name": "stdout",
          "text": [
            "[0, 1, 2, 3, 4, 5, 6, 7, 8, 9]\n"
          ]
        }
      ]
    },
    {
      "cell_type": "code",
      "metadata": {
        "colab": {
          "base_uri": "https://localhost:8080/"
        },
        "id": "nrXEcDtBjzLP",
        "outputId": "7ef8f723-abf9-4136-98b7-f25d7c93b31b"
      },
      "source": [
        "numbers[::4]"
      ],
      "execution_count": 282,
      "outputs": [
        {
          "output_type": "execute_result",
          "data": {
            "text/plain": [
              "[0, 4, 8]"
            ]
          },
          "metadata": {},
          "execution_count": 282
        }
      ]
    },
    {
      "cell_type": "markdown",
      "metadata": {
        "id": "ljFvuRVstSHG"
      },
      "source": [
        "Let us calculate the sum of the list.  the steps are as follows:\n",
        "\n",
        "    1. Create a variable to store the total\n",
        "    2. Initialise total to zero\n",
        "    3. for each element in the list\n",
        "      3.1. add the element to the total\n",
        "    4. print the total "
      ]
    },
    {
      "cell_type": "code",
      "metadata": {
        "id": "dg41Tn2ajycL"
      },
      "source": [
        ""
      ],
      "execution_count": null,
      "outputs": []
    },
    {
      "cell_type": "code",
      "metadata": {
        "id": "no1PQZ5Ls9uA",
        "colab": {
          "base_uri": "https://localhost:8080/"
        },
        "outputId": "96852cc5-d9c0-4c8e-cf53-d6c2a0d3a02d"
      },
      "source": [
        "numbers = list(range(0,10))\n",
        "\n",
        "# 1. Create a variable to store the total\n",
        "# 2. Initialise the variable to zero\n",
        "total = 0\n",
        "\n",
        "# 3. for each element in the list\n",
        "#    3.1 add the element to the total\n",
        "for ele in numbers:\n",
        "  total = total + ele\n",
        "\n",
        "# 4. print the total \n",
        "print(total)"
      ],
      "execution_count": 286,
      "outputs": [
        {
          "output_type": "stream",
          "name": "stdout",
          "text": [
            "This is a mistake\n"
          ]
        }
      ]
    },
    {
      "cell_type": "markdown",
      "metadata": {
        "id": "8h8rO5_Zuhcf"
      },
      "source": [
        "\n",
        "Notice that we worked out an algorithm, and then we used the algorith as comments.  Probably a bit much for this simple example, but hopefully you get the idea.\n",
        "\n",
        "Now calculating the total of alist is pretty common, so Python has a *sum()* function to do that for us."
      ]
    },
    {
      "cell_type": "code",
      "metadata": {
        "id": "T18Nc4kOvBuO",
        "colab": {
          "base_uri": "https://localhost:8080/"
        },
        "outputId": "02bdf0f9-a7ef-4fe8-b623-c70aa7a1cd3c"
      },
      "source": [
        "numbers = list(range(0,10))\n",
        "print(sum(numbers))"
      ],
      "execution_count": 287,
      "outputs": [
        {
          "output_type": "stream",
          "name": "stdout",
          "text": [
            "45\n"
          ]
        }
      ]
    },
    {
      "cell_type": "markdown",
      "metadata": {
        "id": "dvIVLyuYvKXo"
      },
      "source": [
        "Which should you use?  As a general rule in Python, if a function exists, then typically, this means someone has tested and debugged the code, so my advice is to use the function.\n",
        "\n",
        "How do you find out if the function exists?   Search on the internet!\n",
        "\n",
        "If you can't find anything, then you will have to write your own.\n",
        "\n",
        "\n",
        "# Functions\n",
        "\n",
        "We been using functions though out, print(), len(), type().  Functions are identified by the use of 'name()'.  Most functions take input (called arguments), for exmaple:\n",
        "\n",
        "    print(\"Hello World\")\n",
        "\n",
        "Here \"Hello World\" is the argument.\n",
        "\n",
        "We can declare functions.  Declaring or defining functions is a way to encapsulate a set of actions into a single statement call.  \n",
        "\n",
        "Following our development methodology, as you understand the problem and work through a few examples, your initial algorithm is often a set of high-level steps.   That is, you break the problem down into a set of more minor problems.   Typically you would work on one step at a time.  These 'steps' often become functions.\n",
        "\n",
        "Another common reason to create a function is that save you are repeating a sequence of code.  Rather than duplicate the code in many places in the program, create a function.  Then call the function where required in the program.\n",
        "\n",
        "Defining your function is 'extending' the language. You can use terminology from the original problem as the name of a Python function, which makes it easier to understand the code.\n",
        "\n",
        "Functions are declared with the def keyword. \n",
        "\n",
        "Optional arguments are set in the function declaration after the mandatory arguments by being assigned a default value. \n",
        "\n",
        "For named arguments, the name of the argument is assigned a value. \n",
        "\n",
        "Functions can return thing(s).  Typically a single value/thing/object, but they can return multiple values in a tuple.  You use tuple unpacking to access each value.\n",
        "\n",
        "Python doesn't have a function to calculate the average of a list. To calculate the average of a list, we need the sum of the values in the list, and then divide by the number of elements in the list.   Python has a sum() function, and we already used the len() function.  So let us define a  function to calculate the average.\n"
      ]
    },
    {
      "cell_type": "code",
      "metadata": {
        "colab": {
          "base_uri": "https://localhost:8080/"
        },
        "id": "WK0IUVIJpEV9",
        "outputId": "5388b24e-3f38-42a8-c2cc-dc1b10dbf4a6"
      },
      "source": [
        "# Calculate average\n",
        "total = sum(numbers)\n",
        "num_elements = len(numbers)\n",
        "average = total / num_elements\n",
        "print(average)"
      ],
      "execution_count": 300,
      "outputs": [
        {
          "output_type": "stream",
          "name": "stdout",
          "text": [
            "4.5\n"
          ]
        }
      ]
    },
    {
      "cell_type": "code",
      "metadata": {
        "id": "LLNXraYg2b9Z"
      },
      "source": [
        "def average(numbers):\n",
        "  total = sum(numbers)\n",
        "  num_elements = len(numbers)\n",
        "  average = total / num_elements\n",
        "  return average"
      ],
      "execution_count": 288,
      "outputs": []
    },
    {
      "cell_type": "markdown",
      "metadata": {
        "id": "59JqKjIB2qDq"
      },
      "source": [
        "Lets use the new function."
      ]
    },
    {
      "cell_type": "code",
      "metadata": {
        "id": "0Soxk3kP2o74",
        "colab": {
          "base_uri": "https://localhost:8080/"
        },
        "outputId": "4b5d03be-48d5-45fa-eede-fe6db34192c6"
      },
      "source": [
        "# create a list\n",
        "nums = list(range(0,10))\n",
        "\n",
        "# store the reslt form the function call\n",
        "result = average(nums)\n",
        "\n",
        "# print the result\n",
        "print(result)"
      ],
      "execution_count": 289,
      "outputs": [
        {
          "output_type": "stream",
          "name": "stdout",
          "text": [
            "4.5\n"
          ]
        }
      ]
    },
    {
      "cell_type": "markdown",
      "metadata": {
        "id": "IRvkdKTb3QT_"
      },
      "source": [
        "# Exceptions\n",
        "\n",
        "Programs can crash.  Program typically crash when something exceptional happens, perhaps out of memory, or out if disk space, or invalid input.  In Python we get a error message called a traceback, see the following example\n",
        "\n",
        "    ---------------------------------------------------------------------------\n",
        "    TypeError                                 Traceback (most recent call last)\n",
        "    <ipython-input-109-6def03b54820> in <module>()\n",
        "          1 words = ['One', 'Two', 'Three']\n",
        "    ----> 2 average(words)\n",
        "\n",
        "    <ipython-input-105-20f44f94ad68> in average(numbers)\n",
        "          1 def average(numbers):\n",
        "    ----> 2   average = sum(numbers)/len(numbers)\n",
        "          3   return average\n",
        "\n",
        "    TypeError: unsupported operand type(s) for +: 'int' and 'str'\n",
        "\n",
        "The traceback is designed to help the programmer and not meant for the user of your program.  We should test our program and prevent any traceback from being displayed to the user.\n",
        "\n",
        "In the above exmaple, this exepction is type error:\n",
        "\n",
        "    TypeError: unsupported operand type(s) for +: 'int' and 'str'\n",
        "\n",
        "To handle exceptions in Python, firt we 'try' the code, and if a exception occurs we write a block of code tha 'handle' the code.  This is known as a try-except blocks.\n",
        "\n",
        "Let us consider out *average()* function we defined above. \n",
        "\n",
        "What happens is we have a list with no numbers ['One', 'Two', 'Three']?\n"
      ]
    },
    {
      "cell_type": "code",
      "metadata": {
        "id": "Cij-jzuQ3tBE",
        "colab": {
          "base_uri": "https://localhost:8080/",
          "height": 306
        },
        "outputId": "afa7eb29-c80d-4aaf-ba97-6fe891df9b21"
      },
      "source": [
        "words = ['One', 'Two', 'Three']\n",
        "average(words)"
      ],
      "execution_count": 290,
      "outputs": [
        {
          "output_type": "error",
          "ename": "TypeError",
          "evalue": "ignored",
          "traceback": [
            "\u001b[0;31m---------------------------------------------------------------------------\u001b[0m",
            "\u001b[0;31mTypeError\u001b[0m                                 Traceback (most recent call last)",
            "\u001b[0;32m<ipython-input-290-6def03b54820>\u001b[0m in \u001b[0;36m<module>\u001b[0;34m()\u001b[0m\n\u001b[1;32m      1\u001b[0m \u001b[0mwords\u001b[0m \u001b[0;34m=\u001b[0m \u001b[0;34m[\u001b[0m\u001b[0;34m'One'\u001b[0m\u001b[0;34m,\u001b[0m \u001b[0;34m'Two'\u001b[0m\u001b[0;34m,\u001b[0m \u001b[0;34m'Three'\u001b[0m\u001b[0;34m]\u001b[0m\u001b[0;34m\u001b[0m\u001b[0;34m\u001b[0m\u001b[0m\n\u001b[0;32m----> 2\u001b[0;31m \u001b[0maverage\u001b[0m\u001b[0;34m(\u001b[0m\u001b[0mwords\u001b[0m\u001b[0;34m)\u001b[0m\u001b[0;34m\u001b[0m\u001b[0;34m\u001b[0m\u001b[0m\n\u001b[0m",
            "\u001b[0;32m<ipython-input-288-2632cacc1fdf>\u001b[0m in \u001b[0;36maverage\u001b[0;34m(numbers)\u001b[0m\n\u001b[1;32m      1\u001b[0m \u001b[0;32mdef\u001b[0m \u001b[0maverage\u001b[0m\u001b[0;34m(\u001b[0m\u001b[0mnumbers\u001b[0m\u001b[0;34m)\u001b[0m\u001b[0;34m:\u001b[0m\u001b[0;34m\u001b[0m\u001b[0;34m\u001b[0m\u001b[0m\n\u001b[0;32m----> 2\u001b[0;31m   \u001b[0mtotal\u001b[0m \u001b[0;34m=\u001b[0m \u001b[0msum\u001b[0m\u001b[0;34m(\u001b[0m\u001b[0mnumbers\u001b[0m\u001b[0;34m)\u001b[0m\u001b[0;34m\u001b[0m\u001b[0;34m\u001b[0m\u001b[0m\n\u001b[0m\u001b[1;32m      3\u001b[0m   \u001b[0mnum_elements\u001b[0m \u001b[0;34m=\u001b[0m \u001b[0mlen\u001b[0m\u001b[0;34m(\u001b[0m\u001b[0mnumbers\u001b[0m\u001b[0;34m)\u001b[0m\u001b[0;34m\u001b[0m\u001b[0;34m\u001b[0m\u001b[0m\n\u001b[1;32m      4\u001b[0m   \u001b[0maverage\u001b[0m \u001b[0;34m=\u001b[0m \u001b[0mtotal\u001b[0m \u001b[0;34m/\u001b[0m \u001b[0mnum_elements\u001b[0m\u001b[0;34m\u001b[0m\u001b[0;34m\u001b[0m\u001b[0m\n\u001b[1;32m      5\u001b[0m   \u001b[0;32mreturn\u001b[0m \u001b[0maverage\u001b[0m\u001b[0;34m\u001b[0m\u001b[0;34m\u001b[0m\u001b[0m\n",
            "\u001b[0;31mTypeError\u001b[0m: unsupported operand type(s) for +: 'int' and 'str'"
          ]
        }
      ]
    },
    {
      "cell_type": "markdown",
      "metadata": {
        "id": "L3k53no25Zfp"
      },
      "source": [
        "We need to rewrite the average() function to handle the excpetion \"TypeError\""
      ]
    },
    {
      "cell_type": "code",
      "metadata": {
        "id": "DorOLgCM5vLE"
      },
      "source": [
        "def average(numbers):\n",
        "  try:\n",
        "    average = sum(numbers)/len(numbers)\n",
        "    return average\n",
        "  except TypeError:\n",
        "    print(\"Please check that your list contains only numerical values\")\n",
        "    return 0    "
      ],
      "execution_count": 292,
      "outputs": []
    },
    {
      "cell_type": "markdown",
      "metadata": {
        "id": "zNzJpq4G6hgB"
      },
      "source": [
        "Test the fix"
      ]
    },
    {
      "cell_type": "code",
      "metadata": {
        "id": "EXqP4TkA6gA5",
        "colab": {
          "base_uri": "https://localhost:8080/"
        },
        "outputId": "050356de-7c99-482e-a449-f9be15057a75"
      },
      "source": [
        "words = ['One', 'Two', 'Three']\n",
        "average(words)"
      ],
      "execution_count": 293,
      "outputs": [
        {
          "output_type": "stream",
          "name": "stdout",
          "text": [
            "Please check that your list contains only numerical values\n"
          ]
        },
        {
          "output_type": "execute_result",
          "data": {
            "text/plain": [
              "0"
            ]
          },
          "metadata": {},
          "execution_count": 293
        }
      ]
    },
    {
      "cell_type": "markdown",
      "metadata": {
        "id": "Q1BTH0b071DS"
      },
      "source": [
        "What about an empyt list?"
      ]
    },
    {
      "cell_type": "code",
      "metadata": {
        "id": "8P2bIEmg71a3",
        "colab": {
          "base_uri": "https://localhost:8080/",
          "height": 306
        },
        "outputId": "1fc55cca-224e-4477-ceb3-4d273a604f21"
      },
      "source": [
        "empty_list = []\n",
        "average(empty_list)"
      ],
      "execution_count": 294,
      "outputs": [
        {
          "output_type": "error",
          "ename": "ZeroDivisionError",
          "evalue": "ignored",
          "traceback": [
            "\u001b[0;31m---------------------------------------------------------------------------\u001b[0m",
            "\u001b[0;31mZeroDivisionError\u001b[0m                         Traceback (most recent call last)",
            "\u001b[0;32m<ipython-input-294-8f752c43d2f9>\u001b[0m in \u001b[0;36m<module>\u001b[0;34m()\u001b[0m\n\u001b[1;32m      1\u001b[0m \u001b[0mempty_list\u001b[0m \u001b[0;34m=\u001b[0m \u001b[0;34m[\u001b[0m\u001b[0;34m]\u001b[0m\u001b[0;34m\u001b[0m\u001b[0;34m\u001b[0m\u001b[0m\n\u001b[0;32m----> 2\u001b[0;31m \u001b[0maverage\u001b[0m\u001b[0;34m(\u001b[0m\u001b[0mempty_list\u001b[0m\u001b[0;34m)\u001b[0m\u001b[0;34m\u001b[0m\u001b[0;34m\u001b[0m\u001b[0m\n\u001b[0m",
            "\u001b[0;32m<ipython-input-292-bbc4e508dd88>\u001b[0m in \u001b[0;36maverage\u001b[0;34m(numbers)\u001b[0m\n\u001b[1;32m      1\u001b[0m \u001b[0;32mdef\u001b[0m \u001b[0maverage\u001b[0m\u001b[0;34m(\u001b[0m\u001b[0mnumbers\u001b[0m\u001b[0;34m)\u001b[0m\u001b[0;34m:\u001b[0m\u001b[0;34m\u001b[0m\u001b[0;34m\u001b[0m\u001b[0m\n\u001b[1;32m      2\u001b[0m   \u001b[0;32mtry\u001b[0m\u001b[0;34m:\u001b[0m\u001b[0;34m\u001b[0m\u001b[0;34m\u001b[0m\u001b[0m\n\u001b[0;32m----> 3\u001b[0;31m     \u001b[0maverage\u001b[0m \u001b[0;34m=\u001b[0m \u001b[0msum\u001b[0m\u001b[0;34m(\u001b[0m\u001b[0mnumbers\u001b[0m\u001b[0;34m)\u001b[0m\u001b[0;34m/\u001b[0m\u001b[0mlen\u001b[0m\u001b[0;34m(\u001b[0m\u001b[0mnumbers\u001b[0m\u001b[0;34m)\u001b[0m\u001b[0;34m\u001b[0m\u001b[0;34m\u001b[0m\u001b[0m\n\u001b[0m\u001b[1;32m      4\u001b[0m     \u001b[0;32mreturn\u001b[0m \u001b[0maverage\u001b[0m\u001b[0;34m\u001b[0m\u001b[0;34m\u001b[0m\u001b[0m\n\u001b[1;32m      5\u001b[0m   \u001b[0;32mexcept\u001b[0m \u001b[0mTypeError\u001b[0m\u001b[0;34m:\u001b[0m\u001b[0;34m\u001b[0m\u001b[0;34m\u001b[0m\u001b[0m\n",
            "\u001b[0;31mZeroDivisionError\u001b[0m: division by zero"
          ]
        }
      ]
    },
    {
      "cell_type": "markdown",
      "metadata": {
        "id": "f04VAqAP654t"
      },
      "source": [
        "Umm... still need more work. Need to handle the ZeroDivisionError exception"
      ]
    },
    {
      "cell_type": "code",
      "metadata": {
        "id": "XNjNp0_16-DD"
      },
      "source": [
        "def average(numbers):\n",
        "  try:\n",
        "    average = sum(numbers)/len(numbers)\n",
        "    return average\n",
        "  except TypeError:\n",
        "    print(\"Please check that your list contains only numerical values\")\n",
        "    return 0\n",
        "  except ZeroDivisionError:  \n",
        "    print(\"Please make sure that your list is not empty\")\n",
        "    return 0"
      ],
      "execution_count": 296,
      "outputs": []
    },
    {
      "cell_type": "markdown",
      "metadata": {
        "id": "6t85IGFd7S2m"
      },
      "source": [
        "Let us test the fix"
      ]
    },
    {
      "cell_type": "code",
      "metadata": {
        "id": "PnFrmOD07PXZ",
        "colab": {
          "base_uri": "https://localhost:8080/"
        },
        "outputId": "c6bbf429-8889-496c-a48c-ff2e8b5d7026"
      },
      "source": [
        "empty_list = []\n",
        "average(empty_list)"
      ],
      "execution_count": 297,
      "outputs": [
        {
          "output_type": "stream",
          "name": "stdout",
          "text": [
            "Please make sure that your list is not empty\n"
          ]
        },
        {
          "output_type": "execute_result",
          "data": {
            "text/plain": [
              "0"
            ]
          },
          "metadata": {},
          "execution_count": 297
        }
      ]
    },
    {
      "cell_type": "markdown",
      "metadata": {
        "id": "ETHMnpMh7V8W"
      },
      "source": [
        "What about a list of real numbers?"
      ]
    },
    {
      "cell_type": "code",
      "metadata": {
        "id": "ztwI9xV27Yqa",
        "colab": {
          "base_uri": "https://localhost:8080/"
        },
        "outputId": "11fc7a67-8601-45ba-a3e1-6a79361f3d79"
      },
      "source": [
        "reals = [1,1.1,1,1.1]\n",
        "print(average(reals))"
      ],
      "execution_count": 299,
      "outputs": [
        {
          "output_type": "stream",
          "name": "stdout",
          "text": [
            "1.05\n"
          ]
        }
      ]
    },
    {
      "cell_type": "markdown",
      "metadata": {
        "id": "ISWSu_268Kb8"
      },
      "source": [
        "# Importing \n",
        "\n",
        "Python has a great community support.  Many programming problems have been solved, from image processing, reading and writing to files, creating plots etc.  When someone or a group write something useful they will bundle the functions up into a package for other to use.\n",
        "\n",
        "To use some packages you have to install them first.  Once a package has been installed you can import the package into your program and use the functions.\n",
        "\n",
        "\n"
      ]
    },
    {
      "cell_type": "code",
      "metadata": {
        "id": "jsQVCvoY-f5o",
        "colab": {
          "base_uri": "https://localhost:8080/"
        },
        "outputId": "88be2239-5103-4728-b059-5b479bae51f6"
      },
      "source": [
        "import random\n",
        "\n",
        "randomint = random.randint(1,100)\n",
        "print(randomint)"
      ],
      "execution_count": 301,
      "outputs": [
        {
          "output_type": "stream",
          "name": "stdout",
          "text": [
            "48\n"
          ]
        }
      ]
    },
    {
      "cell_type": "code",
      "metadata": {
        "colab": {
          "base_uri": "https://localhost:8080/"
        },
        "id": "-le1dCxqpoPg",
        "outputId": "f4f2e808-1df0-4d04-cb1d-4bff1e65c55c"
      },
      "source": [
        "help(random.randint)"
      ],
      "execution_count": 302,
      "outputs": [
        {
          "output_type": "stream",
          "name": "stdout",
          "text": [
            "Help on method randint in module random:\n",
            "\n",
            "randint(a, b) method of random.Random instance\n",
            "    Return random integer in range [a, b], including both end points.\n",
            "\n"
          ]
        }
      ]
    },
    {
      "cell_type": "markdown",
      "metadata": {
        "id": "8RTjq0Vv_H-e"
      },
      "source": [
        "You can import a specific function form a package using the 'from' keyword"
      ]
    },
    {
      "cell_type": "code",
      "metadata": {
        "id": "vyLGxnNL_Niy",
        "colab": {
          "base_uri": "https://localhost:8080/"
        },
        "outputId": "6f971072-5dca-4d84-e3df-621146b27981"
      },
      "source": [
        "from random import randint\n",
        "\n",
        "randomint = randint(20,25)\n",
        "print(randomint)"
      ],
      "execution_count": 303,
      "outputs": [
        {
          "output_type": "stream",
          "name": "stdout",
          "text": [
            "23\n"
          ]
        }
      ]
    },
    {
      "cell_type": "markdown",
      "metadata": {
        "id": "GbIMVktCAPET"
      },
      "source": [
        "# Input/Output\n",
        "\n",
        "Programs are:\n",
        "\n",
        "    Input --> Processing --> Output\n",
        "\n",
        "We already seen some simple output with the print() function. For simple input, we can use the input() function. "
      ]
    },
    {
      "cell_type": "code",
      "metadata": {
        "id": "BHkhh-t9An54",
        "colab": {
          "base_uri": "https://localhost:8080/",
          "height": 52
        },
        "outputId": "562f6084-a7e8-4c04-876f-c4fc07644f96"
      },
      "source": [
        "input(\"What is your name? \")"
      ],
      "execution_count": 304,
      "outputs": [
        {
          "name": "stdout",
          "output_type": "stream",
          "text": [
            "What is your name? Odin\n"
          ]
        },
        {
          "output_type": "execute_result",
          "data": {
            "application/vnd.google.colaboratory.intrinsic+json": {
              "type": "string"
            },
            "text/plain": [
              "'Odin'"
            ]
          },
          "metadata": {},
          "execution_count": 304
        }
      ]
    },
    {
      "cell_type": "markdown",
      "metadata": {
        "id": "yMlft8eABGgH"
      },
      "source": [
        "We typically want to process the input, so we should store the input into a variable"
      ]
    },
    {
      "cell_type": "code",
      "metadata": {
        "id": "Z3kLqbrjBVK4",
        "colab": {
          "base_uri": "https://localhost:8080/"
        },
        "outputId": "081144b9-0d6b-4113-f076-2e9033fd7a9b"
      },
      "source": [
        "# store the input into a variable called name\n",
        "name = input(\"What is your name? \")\n",
        "\n",
        "# simulate the processing step by using the input\n",
        "phrase = 'Your name is ' + name\n",
        "\n",
        "# Out put the result of our processing\n",
        "print(phrase)"
      ],
      "execution_count": 305,
      "outputs": [
        {
          "output_type": "stream",
          "name": "stdout",
          "text": [
            "What is your name? Odin\n",
            "Your name is Odin\n"
          ]
        }
      ]
    },
    {
      "cell_type": "markdown",
      "metadata": {
        "id": "VeTpOT_0Bkds"
      },
      "source": [
        "## File I/O\n",
        "\n",
        "For more persistance of data we can store our data in a file, and we can read data form a file.  The typicall pattern is, open the file, read/write from/to the file, and then close the file.\n",
        "\n",
        "Whe we open the file, we can specifiy if it is for reading, writing, or appending. When writing or appending, if the file doesn't exits it will create a empty file."
      ]
    },
    {
      "cell_type": "code",
      "metadata": {
        "id": "oZH8WtBtCAv1"
      },
      "source": [
        "my_file = open(\"mytext.txt\", \"w\")\n",
        "my_file.write(\"This is the first line\\n\") # notice the '\\n', this is the new line character\n",
        "my_file.write(\"This is a second line\\n\")\n",
        "my_file.close()\n"
      ],
      "execution_count": 306,
      "outputs": []
    },
    {
      "cell_type": "markdown",
      "metadata": {
        "id": "l1EpH_d3Dqlu"
      },
      "source": [
        "If you open the file 'mytext.txt' in a text editor it contents will be:\n",
        "\n",
        "    This is the first line\n",
        "    This is the second line\n",
        "\n",
        "We can check this in Python, by opening the file for reading and printing each line in the file.\n",
        "\n",
        "The common function to read from text files are:\n",
        "* read() - read the entire file\n",
        "* readline() - read one line of a file\n",
        "* readlines() - read entire files, return as a list of lines "
      ]
    },
    {
      "cell_type": "code",
      "metadata": {
        "id": "K6-U8c_MECxW",
        "colab": {
          "base_uri": "https://localhost:8080/"
        },
        "outputId": "2ed8f190-f3de-4295-a2aa-d4dc118be078"
      },
      "source": [
        "my_file = open(\"mytext.txt\", \"r\")\n",
        "print(my_file.read())\n",
        "my_file.close()"
      ],
      "execution_count": 307,
      "outputs": [
        {
          "output_type": "stream",
          "name": "stdout",
          "text": [
            "This is the first line\n",
            "This is a second line\n",
            "\n"
          ]
        }
      ]
    },
    {
      "cell_type": "code",
      "metadata": {
        "id": "rhZRk2bcFpQM",
        "colab": {
          "base_uri": "https://localhost:8080/"
        },
        "outputId": "bc270784-21e6-4479-dc45-924a60564947"
      },
      "source": [
        "my_file = open(\"mytext.txt\", \"r\")\n",
        "print(my_file.readlines())\n",
        "my_file.close()"
      ],
      "execution_count": 308,
      "outputs": [
        {
          "output_type": "stream",
          "name": "stdout",
          "text": [
            "['This is the first line\\n', 'This is a second line\\n']\n"
          ]
        }
      ]
    },
    {
      "cell_type": "code",
      "metadata": {
        "id": "MXXXMLhJGCE4",
        "colab": {
          "base_uri": "https://localhost:8080/"
        },
        "outputId": "1f5450e9-d70d-4550-f10f-571895d0ba63"
      },
      "source": [
        "my_file = open(\"mytext.txt\", \"r\")\n",
        "print(my_file.readline())\n",
        "my_file.close()"
      ],
      "execution_count": 309,
      "outputs": [
        {
          "output_type": "stream",
          "name": "stdout",
          "text": [
            "This is the first line\n",
            "\n"
          ]
        }
      ]
    },
    {
      "cell_type": "markdown",
      "metadata": {
        "id": "0lLc9kH8Icn-"
      },
      "source": [
        "To print each line, we can iterate over the list of lines"
      ]
    },
    {
      "cell_type": "code",
      "metadata": {
        "id": "zPjtZoKZIjTm",
        "colab": {
          "base_uri": "https://localhost:8080/"
        },
        "outputId": "682400f8-ab37-4833-e20b-f657022254e7"
      },
      "source": [
        "my_file = open(\"mytext.txt\", \"r\")\n",
        "for line in my_file.readlines():\n",
        "  print(line)\n",
        "my_file.close()"
      ],
      "execution_count": 310,
      "outputs": [
        {
          "output_type": "stream",
          "name": "stdout",
          "text": [
            "This is the first line\n",
            "\n",
            "This is a second line\n",
            "\n"
          ]
        }
      ]
    },
    {
      "cell_type": "markdown",
      "metadata": {
        "id": "fnLmV0QZGzAQ"
      },
      "source": [
        "Closing the file is industry best practice, but can be easy to forget.  The pythonic' way is to use the *with* statement"
      ]
    },
    {
      "cell_type": "code",
      "metadata": {
        "id": "HuMPQGJkGvov",
        "colab": {
          "base_uri": "https://localhost:8080/"
        },
        "outputId": "61e1cd0f-bc63-48e2-fe32-da955bd9fd88"
      },
      "source": [
        "with open(\"mytext.txt\") as my_file:\n",
        "  print(my_file.read())"
      ],
      "execution_count": 311,
      "outputs": [
        {
          "output_type": "stream",
          "name": "stdout",
          "text": [
            "This is the first line\n",
            "This is a second line\n",
            "\n"
          ]
        }
      ]
    },
    {
      "cell_type": "markdown",
      "metadata": {
        "id": "M2JCoR6IIJLZ"
      },
      "source": [
        "We can iterate of the file variable."
      ]
    },
    {
      "cell_type": "code",
      "metadata": {
        "id": "iYz8N_W9H3HT",
        "colab": {
          "base_uri": "https://localhost:8080/"
        },
        "outputId": "8f517b3b-bdec-460a-b5f3-5c6b02bd6694"
      },
      "source": [
        "with open(\"mytext.txt\") as my_file:\n",
        "  for line in my_file:\n",
        "    print(line)"
      ],
      "execution_count": 312,
      "outputs": [
        {
          "output_type": "stream",
          "name": "stdout",
          "text": [
            "This is the first line\n",
            "\n",
            "This is a second line\n",
            "\n"
          ]
        }
      ]
    },
    {
      "cell_type": "markdown",
      "metadata": {
        "id": "fvo_M_YREVlF"
      },
      "source": [
        "Oaky, I can write strings, what about other things?"
      ]
    },
    {
      "cell_type": "code",
      "metadata": {
        "id": "j45mQoc_BsaP",
        "colab": {
          "base_uri": "https://localhost:8080/",
          "height": 219
        },
        "outputId": "d1048dab-bf57-4ac1-b702-d9010f984ed5"
      },
      "source": [
        "my_list = [\"This\", \"is\", 4, 13327]\n",
        "\n",
        "my_file = open(\"mylist.txt\", \"w\")\n",
        "my_file.write(my_list)\n",
        "my_file.close()\n"
      ],
      "execution_count": 313,
      "outputs": [
        {
          "output_type": "error",
          "ename": "TypeError",
          "evalue": "ignored",
          "traceback": [
            "\u001b[0;31m---------------------------------------------------------------------------\u001b[0m",
            "\u001b[0;31mTypeError\u001b[0m                                 Traceback (most recent call last)",
            "\u001b[0;32m<ipython-input-313-399b371b03a9>\u001b[0m in \u001b[0;36m<module>\u001b[0;34m()\u001b[0m\n\u001b[1;32m      2\u001b[0m \u001b[0;34m\u001b[0m\u001b[0m\n\u001b[1;32m      3\u001b[0m \u001b[0mmy_file\u001b[0m \u001b[0;34m=\u001b[0m \u001b[0mopen\u001b[0m\u001b[0;34m(\u001b[0m\u001b[0;34m\"mylist.txt\"\u001b[0m\u001b[0;34m,\u001b[0m \u001b[0;34m\"w\"\u001b[0m\u001b[0;34m)\u001b[0m\u001b[0;34m\u001b[0m\u001b[0;34m\u001b[0m\u001b[0m\n\u001b[0;32m----> 4\u001b[0;31m \u001b[0mmy_file\u001b[0m\u001b[0;34m.\u001b[0m\u001b[0mwrite\u001b[0m\u001b[0;34m(\u001b[0m\u001b[0mmy_list\u001b[0m\u001b[0;34m)\u001b[0m\u001b[0;34m\u001b[0m\u001b[0;34m\u001b[0m\u001b[0m\n\u001b[0m\u001b[1;32m      5\u001b[0m \u001b[0mmy_file\u001b[0m\u001b[0;34m.\u001b[0m\u001b[0mclose\u001b[0m\u001b[0;34m(\u001b[0m\u001b[0;34m)\u001b[0m\u001b[0;34m\u001b[0m\u001b[0;34m\u001b[0m\u001b[0m\n",
            "\u001b[0;31mTypeError\u001b[0m: write() argument must be str, not list"
          ]
        }
      ]
    },
    {
      "cell_type": "markdown",
      "metadata": {
        "id": "MVcT5uo3I7cH"
      },
      "source": [
        "There is a library called pickle, that alows us to write/read objects to/from files."
      ]
    },
    {
      "cell_type": "code",
      "metadata": {
        "id": "0ZYagyJ_JD54"
      },
      "source": [
        "import pickle\n",
        "\n",
        "my_list = [\"This\", \"is\", 4, 13327]\n",
        "\n",
        "# open the file to write bytes\n",
        "my_file = open(\"binary.dat\", \"wb\")\n",
        "\n",
        "# use pickle to write the object to the file\n",
        "pickle.dump(my_list, my_file)\n",
        "\n",
        "# close the file\n",
        "my_file.close()\n"
      ],
      "execution_count": 314,
      "outputs": []
    },
    {
      "cell_type": "markdown",
      "metadata": {
        "id": "o7ReePEIJhXV"
      },
      "source": [
        "We can't open 'binary.dat' in a text editor and make sense of it.\n",
        "\n",
        "Let us use pickle to read back the list. Lets also use the with statement"
      ]
    },
    {
      "cell_type": "code",
      "metadata": {
        "id": "8sjkfrpOJzjW",
        "colab": {
          "base_uri": "https://localhost:8080/"
        },
        "outputId": "3dd33155-e915-4a27-e695-5cc675fd838d"
      },
      "source": [
        "with open(\"binary.dat\",\"rb\") as my_file:\n",
        "  the_list = pickle.load(my_file)\n",
        "\n",
        "print(the_list)"
      ],
      "execution_count": 315,
      "outputs": [
        {
          "output_type": "stream",
          "name": "stdout",
          "text": [
            "['This', 'is', 4, 13327]\n"
          ]
        }
      ]
    },
    {
      "cell_type": "markdown",
      "metadata": {
        "id": "iclrZFV1KziC"
      },
      "source": [
        "## Other Data Sources/Sinks\n",
        "\n",
        "* CSV files\n",
        "* SQL Databases\n",
        "* Excell Spreadsheets\n",
        "* Word Documents\n",
        "* PDF files\n",
        "* Webpages\n",
        "* Videos\n",
        "* Audio\n",
        "\n",
        "The pattern is almost all the same, open the file/database/webpage/stream, extract the data (usually into a pandas dataframe), process the data, the save the result to a file/database/webapge/stream.\n",
        "\n",
        "Let us get a CSV from a URL and stor into a pandas dataframe"
      ]
    },
    {
      "cell_type": "code",
      "metadata": {
        "id": "are8WRKBL0jJ",
        "colab": {
          "base_uri": "https://localhost:8080/"
        },
        "outputId": "0a743c7b-fc14-4cb8-c961-27342c54c259"
      },
      "source": [
        "import pandas as pd\n",
        "\n",
        "url = \"http://winterolympicsmedals.com/medals.csv\"\n",
        "df = pd.read_csv(url)\n",
        "\n",
        "print(df.head())"
      ],
      "execution_count": 316,
      "outputs": [
        {
          "output_type": "stream",
          "name": "stdout",
          "text": [
            "   Year      City       Sport  ...       Event Event gender   Medal\n",
            "0  1924  Chamonix     Skating  ...  individual            M  Silver\n",
            "1  1924  Chamonix     Skating  ...  individual            W    Gold\n",
            "2  1924  Chamonix     Skating  ...       pairs            X    Gold\n",
            "3  1924  Chamonix   Bobsleigh  ...    four-man            M  Bronze\n",
            "4  1924  Chamonix  Ice Hockey  ...  ice hockey            M    Gold\n",
            "\n",
            "[5 rows x 8 columns]\n"
          ]
        }
      ]
    },
    {
      "cell_type": "markdown",
      "metadata": {
        "id": "HVW1OkO5NU47"
      },
      "source": [
        "Lets save the dataframe as a CSV file\n"
      ]
    },
    {
      "cell_type": "code",
      "metadata": {
        "id": "2dSLYtYRNfUJ"
      },
      "source": [
        "import pandas as pd\n",
        "url = \"http://winterolympicsmedals.com/medals.csv\"\n",
        "df = pd.read_csv(url)\n",
        "\n",
        "# Simulate processing the data, lets extract the first 5 rows\n",
        "small_df = df.head()\n",
        "\n",
        "# output results\n",
        "small_df.to_csv(\"medals.csv\")"
      ],
      "execution_count": 317,
      "outputs": []
    },
    {
      "cell_type": "markdown",
      "metadata": {
        "id": "j4aIxP6HOSHH"
      },
      "source": [
        "A CSV file is a text file, lets use our code above to inspect the meadles.csv file"
      ]
    },
    {
      "cell_type": "code",
      "metadata": {
        "id": "4DV1HQiOOcBJ",
        "colab": {
          "base_uri": "https://localhost:8080/"
        },
        "outputId": "234d0766-04b9-4876-eca7-afbd7def5b7e"
      },
      "source": [
        "with open(\"medals.csv\", \"r\") as my_file:\n",
        "  print(my_file.read())"
      ],
      "execution_count": 318,
      "outputs": [
        {
          "output_type": "stream",
          "name": "stdout",
          "text": [
            ",Year,City,Sport,Discipline,NOC,Event,Event gender,Medal\n",
            "0,1924,Chamonix,Skating,Figure skating,AUT,individual,M,Silver\n",
            "1,1924,Chamonix,Skating,Figure skating,AUT,individual,W,Gold\n",
            "2,1924,Chamonix,Skating,Figure skating,AUT,pairs,X,Gold\n",
            "3,1924,Chamonix,Bobsleigh,Bobsleigh,BEL,four-man,M,Bronze\n",
            "4,1924,Chamonix,Ice Hockey,Ice Hockey,CAN,ice hockey,M,Gold\n",
            "\n"
          ]
        }
      ]
    },
    {
      "cell_type": "markdown",
      "metadata": {
        "id": "chXJfWRkO4MZ"
      },
      "source": [
        "Lets save this as a SQL database\n"
      ]
    },
    {
      "cell_type": "code",
      "metadata": {
        "id": "jqJtPVuCPAM5",
        "colab": {
          "base_uri": "https://localhost:8080/"
        },
        "outputId": "6baab040-acf3-48d5-e6df-bcb80b650ce1"
      },
      "source": [
        "import pandas as pd\n",
        "import sqlite3\n",
        "\n",
        "# read in the data source\n",
        "df = pd.read_csv(\"http://winterolympicsmedals.com/medals.csv\")\n",
        "\n",
        "# process the data - extract the first 5 rows\n",
        "small_df = df.head()\n",
        "\n",
        "# save reults to a SQL database\n",
        "\n",
        "# connect to the database\n",
        "conn = sqlite3.connect('my_database.sqlite')\n",
        "\n",
        "# save dataframe as a table in the databse\n",
        "small_df.to_sql('medal_table', conn, if_exists='replace', index=False)"
      ],
      "execution_count": 319,
      "outputs": [
        {
          "output_type": "stream",
          "name": "stderr",
          "text": [
            "/usr/local/lib/python3.7/dist-packages/pandas/core/generic.py:2615: UserWarning: The spaces in these column names will not be changed. In pandas versions < 0.14, spaces were converted to underscores.\n",
            "  method=method,\n"
          ]
        }
      ]
    },
    {
      "cell_type": "markdown",
      "metadata": {
        "id": "X5dBLMHMQrf2"
      },
      "source": [
        "Lets check the SQLite database"
      ]
    },
    {
      "cell_type": "code",
      "metadata": {
        "id": "QmaVyxKbQqJk",
        "colab": {
          "base_uri": "https://localhost:8080/",
          "height": 205
        },
        "outputId": "ca5bf470-8413-4c82-c65c-288554e7485a"
      },
      "source": [
        "import pandas as pd\n",
        "import sqlite3\n",
        "\n",
        "# connect to the database\n",
        "conn = sqlite3.connect('my_database.sqlite')\n",
        "query = \"SELECT * FROM medal_table\"\n",
        "df = pd.read_sql(query,conn)\n",
        "df"
      ],
      "execution_count": 320,
      "outputs": [
        {
          "output_type": "execute_result",
          "data": {
            "text/html": [
              "<div>\n",
              "<style scoped>\n",
              "    .dataframe tbody tr th:only-of-type {\n",
              "        vertical-align: middle;\n",
              "    }\n",
              "\n",
              "    .dataframe tbody tr th {\n",
              "        vertical-align: top;\n",
              "    }\n",
              "\n",
              "    .dataframe thead th {\n",
              "        text-align: right;\n",
              "    }\n",
              "</style>\n",
              "<table border=\"1\" class=\"dataframe\">\n",
              "  <thead>\n",
              "    <tr style=\"text-align: right;\">\n",
              "      <th></th>\n",
              "      <th>Year</th>\n",
              "      <th>City</th>\n",
              "      <th>Sport</th>\n",
              "      <th>Discipline</th>\n",
              "      <th>NOC</th>\n",
              "      <th>Event</th>\n",
              "      <th>Event gender</th>\n",
              "      <th>Medal</th>\n",
              "    </tr>\n",
              "  </thead>\n",
              "  <tbody>\n",
              "    <tr>\n",
              "      <th>0</th>\n",
              "      <td>1924</td>\n",
              "      <td>Chamonix</td>\n",
              "      <td>Skating</td>\n",
              "      <td>Figure skating</td>\n",
              "      <td>AUT</td>\n",
              "      <td>individual</td>\n",
              "      <td>M</td>\n",
              "      <td>Silver</td>\n",
              "    </tr>\n",
              "    <tr>\n",
              "      <th>1</th>\n",
              "      <td>1924</td>\n",
              "      <td>Chamonix</td>\n",
              "      <td>Skating</td>\n",
              "      <td>Figure skating</td>\n",
              "      <td>AUT</td>\n",
              "      <td>individual</td>\n",
              "      <td>W</td>\n",
              "      <td>Gold</td>\n",
              "    </tr>\n",
              "    <tr>\n",
              "      <th>2</th>\n",
              "      <td>1924</td>\n",
              "      <td>Chamonix</td>\n",
              "      <td>Skating</td>\n",
              "      <td>Figure skating</td>\n",
              "      <td>AUT</td>\n",
              "      <td>pairs</td>\n",
              "      <td>X</td>\n",
              "      <td>Gold</td>\n",
              "    </tr>\n",
              "    <tr>\n",
              "      <th>3</th>\n",
              "      <td>1924</td>\n",
              "      <td>Chamonix</td>\n",
              "      <td>Bobsleigh</td>\n",
              "      <td>Bobsleigh</td>\n",
              "      <td>BEL</td>\n",
              "      <td>four-man</td>\n",
              "      <td>M</td>\n",
              "      <td>Bronze</td>\n",
              "    </tr>\n",
              "    <tr>\n",
              "      <th>4</th>\n",
              "      <td>1924</td>\n",
              "      <td>Chamonix</td>\n",
              "      <td>Ice Hockey</td>\n",
              "      <td>Ice Hockey</td>\n",
              "      <td>CAN</td>\n",
              "      <td>ice hockey</td>\n",
              "      <td>M</td>\n",
              "      <td>Gold</td>\n",
              "    </tr>\n",
              "  </tbody>\n",
              "</table>\n",
              "</div>"
            ],
            "text/plain": [
              "   Year      City       Sport  ...       Event Event gender   Medal\n",
              "0  1924  Chamonix     Skating  ...  individual            M  Silver\n",
              "1  1924  Chamonix     Skating  ...  individual            W    Gold\n",
              "2  1924  Chamonix     Skating  ...       pairs            X    Gold\n",
              "3  1924  Chamonix   Bobsleigh  ...    four-man            M  Bronze\n",
              "4  1924  Chamonix  Ice Hockey  ...  ice hockey            M    Gold\n",
              "\n",
              "[5 rows x 8 columns]"
            ]
          },
          "metadata": {},
          "execution_count": 320
        }
      ]
    },
    {
      "cell_type": "markdown",
      "metadata": {
        "id": "K_EJ50IXs3vk"
      },
      "source": [
        "**This is the bold text**\n",
        "# Mannaging Code\n",
        "\n",
        "* Open a Jupyter Notebook\n",
        "* Rename a Jupyter Notebook\n",
        "* Write Python code in a Jupyter notebook code cells\n",
        "* Run Python code in a Jupyter notebook code cell\n",
        "* Write text in Jupyter notebook markdown cells\n",
        "* Use markdown syntax to produce formatted text, headings, lists\n",
        "* Save/Download a Jupyter notebook\n",
        "* Integerate notebooks with GitHub"
      ]
    },
    {
      "cell_type": "markdown",
      "metadata": {
        "id": "1Bqa4L0ss74k"
      },
      "source": [
        "# Packages for Using the Web\n",
        "\n",
        "### Scraping\n",
        "* Beautiful Soup\n",
        "* Requests\n",
        "* Selenium\n",
        "* URLib, URLlib2\n",
        "* Scrapy\n",
        "\n",
        "### Creating\n",
        "* Flask\n",
        "* Django\n",
        "* Bottle"
      ]
    },
    {
      "cell_type": "markdown",
      "metadata": {
        "id": "43DFOv3ys-v-"
      },
      "source": [
        "# Packages for SQL Databases\n",
        "\n",
        "* SQLite3\n",
        "* MySQL\n",
        "* PostgresSQL\n",
        "* SQLalchemy"
      ]
    },
    {
      "cell_type": "markdown",
      "metadata": {
        "id": "DJfZeZSMtAiM"
      },
      "source": [
        "# Packages for Visualisation\n",
        "\n",
        "The graphical depiction of information and data is known as data visualisation. Data visualisation tools make it easy to examine and comprehend trends, outliers, and patterns in data by employing visual elements like charts, graphs, and maps.\n",
        "\n",
        "* Matplotlib\n",
        "* Pandas\n",
        "* seaborn\n",
        "* ggplot\n",
        "* Plotly\n",
        "* Bokeh"
      ]
    },
    {
      "cell_type": "markdown",
      "metadata": {
        "id": "cXcmLe4xtCnr"
      },
      "source": [
        "# Packages for User Interfaces\n",
        "\n",
        "A graphical user interface, or GUI, is an interactive environment that collects user responses to various circumstances such as forms, documents, tests, etc. It delivers a more interactive screen to the user than a typical Command Line Interface (CLI).\n",
        "\n",
        "### In Notebooks\n",
        "* ipywdgets\n",
        "* Panel\n",
        "* Dash\n",
        "* Volia\n",
        "* Anvil\n",
        "\n",
        "\n",
        "### Local Scripts\n",
        "* PyQT5\n",
        "* Tkinter\n",
        "* Kivy\n",
        "* wxPytohn\n",
        "* PySimpleGUI\n",
        "\n",
        "\n"
      ]
    },
    {
      "cell_type": "code",
      "metadata": {
        "id": "ihTq7ArXUMsl"
      },
      "source": [
        "bye"
      ],
      "execution_count": null,
      "outputs": []
    }
  ]
}